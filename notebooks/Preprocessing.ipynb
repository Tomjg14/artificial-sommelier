{
 "cells": [
  {
   "cell_type": "markdown",
   "metadata": {},
   "source": [
    "# Import Libraries"
   ]
  },
  {
   "cell_type": "code",
   "execution_count": null,
   "metadata": {},
   "outputs": [],
   "source": [
    "# data loading\\n\n",
    "from pandas.io.json import json_normalize\n",
    "import json\n",
    "import pandas as pd\n",
    "import os, random\n",
    "from os import listdir\n",
    "\n",
    "# data inspection\n",
    "from collections import Counter\n",
    "\n",
    "# preprocessing\n",
    "import string\n",
    "import nltk\n",
    "from string import punctuation\n",
    "from nltk.corpus import stopwords\n",
    "from sklearn.preprocessing import LabelBinarizer\n",
    "from sklearn.preprocessing import LabelEncoder\n",
    "from scipy.sparse import dok_matrix\n",
    "\n",
    "# computations\n",
    "import numpy as np\n",
    "import math\\n\n",
    "from numpy import asarray\n",
    "from numpy import zeros\n",
    "from keras.utils import np_utils\n",
    "\n",
    "# visualization\n",
    "import matplotlib\n",
    "from matplotlib import pyplot as plt\n",
    "from pprint import pprint\n",
    "import time\n",
    "\n",
    "# data saving\n",
    "import pickle\n",
    "\n",
    "# progress\n",
    "from tqdm import tqdm_notebook as tqdm"
   ]
  },
  {
   "cell_type": "markdown",
   "metadata": {},
   "source": [
    "# Load Data"
   ]
  },
  {
   "cell_type": "code",
   "execution_count": null,
   "metadata": {},
   "outputs": [],
   "source": [
    "file_path = \"data/winemag-data-130k-v2.json\"\n",
    "\n",
    "with open(file_path) as f:\n",
    "    data = json.load(f)\n",
    "    dataset = pd.DataFrame.from_dict(json_normalize(data), orient='columns')\n",
    "\n",
    "descriptions = dataset['description'].tolist()"
   ]
  },
  {
   "cell_type": "markdown",
   "metadata": {},
   "source": [
    "# Obtain POS Tags"
   ]
  },
  {
   "cell_type": "code",
   "execution_count": null,
   "metadata": {},
   "outputs": [],
   "source": [
    "def retrievePOS(descriptions):\n",
    "    tags = []\n",
    "    for description in tqdm(descriptions):\n",
    "        text = nltk.word_tokenize(description)\n",
    "        pos_tags = nltk.pos_tag(text)\n",
    "        pos_dict = {}\n",
    "        for (word,pos) in pos_tags:\n",
    "            pos_dict[word.lower()] = pos\n",
    "            tags.append(pos_dict)\n",
    "    return tags"
   ]
  },
  {
   "cell_type": "code",
   "execution_count": null,
   "metadata": {},
   "outputs": [],
   "source": [
    "tags = retrievePOS(descriptions)"
   ]
  },
  {
   "cell_type": "markdown",
   "metadata": {},
   "source": [
    "# Preprocess"
   ]
  },
  {
   "cell_type": "code",
   "execution_count": null,
   "metadata": {},
   "outputs": [],
   "source": [
    "def hasNumbers(inputString):\n",
    "    return any(char.isdigit() for char in inputString)"
   ]
  },
  {
   "cell_type": "code",
   "execution_count": null,
   "metadata": {},
   "outputs": [],
   "source": [
    "def getTokens(descriptions):\n",
    "    dataset_tokens = []\n",
    "    dataset_pos_tags = []\n",
    "    for description in tqdm(descriptions):\n",
    "        # tokenize\n",
    "        description_tokens = nltk.word_tokenize(description)\n",
    "        # remove tokens with length of 1 and digits\n",
    "        description_tokens = [t for t in description_tokens if len(t) > 1 and not hasNumbers(t)]\n",
    "        # compute part-of-speech tags\n",
    "        pos = nltk.pos_tag(description_tokens)\n",
    "        tokens = []\n",
    "        pos_tags = []\n",
    "        stop_words = set(stopwords.words('english'))\n",
    "        for (word,pos_tag) in pos:\n",
    "            if not word.lower() in stop_words:\n",
    "                tokens.append(word.lower())\n",
    "                pos_tags.append(pos_tag)\n",
    "            dataset_tokens.append(tokens)\n",
    "            dataset_pos_tags.append(pos_tags)\n",
    "        return dataset_tokens, dataset_pos_tags"
   ]
  },
  {
   "cell_type": "code",
   "execution_count": null,
   "metadata": {},
   "outputs": [],
   "source": [
    "tokens, pos_tags = getTokens(descriptions)"
   ]
  },
  {
   "cell_type": "code",
   "execution_count": null,
   "metadata": {},
   "outputs": [],
   "source": [
    "pickle.dump(tokens,open(\"tokens.p\",\"wb\"))\n",
    "pickle.dump(pos_tags,open(\"pos_tags.p\",\"wb\"))"
   ]
  },
  {
   "cell_type": "code",
   "execution_count": null,
   "metadata": {},
   "outputs": [],
   "source": [
    "dataset['tokens'] = tokens\n",
    "dataset['pos_tags'] = pos_tags"
   ]
  }
 ],
 "metadata": {
  "kernelspec": {
   "display_name": "Python 3",
   "language": "python",
   "name": "python3"
  },
  "language_info": {
   "codemirror_mode": {
    "name": "ipython",
    "version": 3
   },
   "file_extension": ".py",
   "mimetype": "text/x-python",
   "name": "python",
   "nbconvert_exporter": "python",
   "pygments_lexer": "ipython3",
   "version": "3.5.3"
  }
 },
 "nbformat": 4,
 "nbformat_minor": 2
}
